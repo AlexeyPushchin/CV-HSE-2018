{
 "cells": [
  {
   "cell_type": "markdown",
   "metadata": {},
   "source": [
    "# Scikit-learn Tutorial"
   ]
  },
  {
   "cell_type": "code",
   "execution_count": null,
   "metadata": {
    "collapsed": true
   },
   "outputs": [],
   "source": [
    "import sklearn\n",
    "import numpy as np\n",
    "import matplotlib.pyplot as plt"
   ]
  },
  {
   "cell_type": "markdown",
   "metadata": {},
   "source": [
    "## 1. Load and Explore Dataset"
   ]
  },
  {
   "cell_type": "code",
   "execution_count": null,
   "metadata": {
    "collapsed": true
   },
   "outputs": [],
   "source": [
    "# This dataset contains information collected by the U.S Census Service\n",
    "# concerning housing in the area of Boston Mass.\n",
    "#\n",
    "# The data was originally published by Harrison, D. and Rubinfeld, D.L. \n",
    "# 'Hedonic prices and the demand for clean air', J. Environ. \n",
    "# Economics & Management, vol.5, 81-102, 1978.\n",
    "#\n",
    "# Variables in order:\n",
    "#  0 CRIM     per capita crime rate by town\n",
    "#  1 ZN       proportion of residential land zoned for lots over 25,000 sq.ft.\n",
    "#  2 INDUS    proportion of non-retail business acres per town\n",
    "#  3 CHAS     Charles River dummy variable (= 1 if tract bounds river; 0 otherwise)\n",
    "#  4 NOX      nitric oxides concentration (parts per 10 million)\n",
    "#  5 RM       average number of rooms per dwelling\n",
    "#  6 AGE      proportion of owner-occupied units built prior to 1940\n",
    "#  7 DIS      weighted distances to five Boston employment centres\n",
    "#  8 RAD      index of accessibility to radial highways\n",
    "#  9 TAX      full-value property-tax rate per $10,000\n",
    "# 10 PTRATIO  pupil-teacher ratio by town\n",
    "# 11 B        1000(Bk - 0.63)^2 where Bk is the proportion of blacks by town\n",
    "# 12 LSTAT    % lower status of the population\n",
    "#\n",
    "# http://www.cs.toronto.edu/~delve/data/boston/bostonDetail.html\n",
    "#\n",
    "from sklearn.datasets import load_boston\n",
    "X, y = load_boston(return_X_y = True)"
   ]
  },
  {
   "cell_type": "code",
   "execution_count": 578,
   "metadata": {},
   "outputs": [
    {
     "data": {
      "image/png": "[encoded data removed]",
      "text/plain": [
       "<matplotlib.figure.Figure at 0x10df2dcf8>"
      ]
     },
     "metadata": {},
     "output_type": "display_data"
    }
   ],
   "source": [
    "# Explore data relations\n",
    "plt.plot(X[:,12], y, 'bo')\n",
    "plt.title('Boston Dataset')\n",
    "plt.xlabel('LSTAT')\n",
    "plt.ylabel('Price')\n",
    "plt.show()"
   ]
  },
  {
   "cell_type": "code",
   "execution_count": null,
   "metadata": {
    "collapsed": true
   },
   "outputs": [],
   "source": [
    "# TODO: explore means np.mean"
   ]
  },
  {
   "cell_type": "code",
   "execution_count": null,
   "metadata": {
    "collapsed": true
   },
   "outputs": [],
   "source": [
    "# TODO: explore variance np.var"
   ]
  },
  {
   "cell_type": "markdown",
   "metadata": {},
   "source": [
    "## 2. Preprocess Dataset"
   ]
  },
  {
   "cell_type": "code",
   "execution_count": null,
   "metadata": {
    "collapsed": true
   },
   "outputs": [],
   "source": [
    "# Scale data\n",
    "from sklearn.preprocessing import StandardScaler\n",
    "#\n",
    "#   StandardScaler(copy=True, with_mean=True, with_std=True)\n",
    "#\n",
    "# TODO:\n",
    "#  1. estimate data stats using StandardScaler.fit method\n",
    "#  2. apply scaling transformation using StandardScaler.transform\n",
    "#  3. explore result using np.mean and np.var"
   ]
  },
  {
   "cell_type": "markdown",
   "metadata": {},
   "source": [
    "## 3. Train Model "
   ]
  },
  {
   "cell_type": "code",
   "execution_count": null,
   "metadata": {
    "collapsed": true
   },
   "outputs": [],
   "source": [
    "# Train linear regression\n",
    "from sklearn.linear_model import LinearRegression\n",
    "#\n",
    "#   LinearRegression(fit_intercept=True, normalize=False, copy_X=True, n_jobs=1)\n",
    "#\n",
    "# TODO: create model instance and train it on scaled\n",
    "#       data using LinearRegression.fit method"
   ]
  },
  {
   "cell_type": "code",
   "execution_count": null,
   "metadata": {
    "collapsed": true
   },
   "outputs": [],
   "source": [
    "# Plot predictions\n",
    "predicted = model.predict(X_scaled)\n",
    "\n",
    "pairs = np.array(sorted(zip(y, predicted)))\n",
    "plt.plot(range(0, len(pairs)), pairs[:, 1], 'bo',\n",
    "         range(0, len(pairs)), pairs[:, 0], 'r-')\n",
    "\n",
    "plt.legend(['predicted', 'actual'])\n",
    "plt.show()"
   ]
  },
  {
   "cell_type": "code",
   "execution_count": null,
   "metadata": {
    "collapsed": true
   },
   "outputs": [],
   "source": [
    "# Estimate model quality\n",
    "from sklearn.metrics import r2_score\n",
    "from sklearn.metrics import mean_squared_error\n",
    "#\n",
    "#   r2_score(y_true, y_pred, sample_weight=None, multioutput=None)\n",
    "#   mean_squared_error(y_true, y_pred, sample_weight=None, multioutput='uniform_average')\n",
    "#\n",
    "# TODO: print R2 and MSE scores"
   ]
  },
  {
   "cell_type": "markdown",
   "metadata": {},
   "source": [
    "## 4. Cross-Validation"
   ]
  },
  {
   "cell_type": "code",
   "execution_count": null,
   "metadata": {
    "collapsed": true
   },
   "outputs": [],
   "source": [
    "# Estimate model quality using cross-validation\n",
    "from sklearn.metrics import r2_score\n",
    "from sklearn.metrics import make_scorer\n",
    "from sklearn.model_selection import KFold\n",
    "from sklearn.model_selection import cross_val_score\n",
    "#\n",
    "#   KFold(n_splits=3, shuffle=False, random_state=None)\n",
    "#\n",
    "#   cross_val_score(estimator, X, y=None, groups=None, scoring=None,\n",
    "#                   cv=None, n_jobs=1, verbose=0, fit_params=None, \n",
    "#                   pre_dispatch='2*n_jobs')\n",
    "#\n",
    "# TODO: estimate average R2 score using 4-fold corss validation"
   ]
  },
  {
   "cell_type": "markdown",
   "metadata": {},
   "source": [
    "## 5. Pipeline Scaler and LinearRegression"
   ]
  },
  {
   "cell_type": "code",
   "execution_count": null,
   "metadata": {
    "collapsed": true
   },
   "outputs": [],
   "source": [
    "from sklearn.pipeline import Pipeline\n",
    "#\n",
    "#   Pipeline(steps=[('name', model),])\n",
    "#\n",
    "# TODO: \n",
    "#  1. combine scaler and linear gregression using pipeline\n",
    "#  2. etimate quality using cross_val_score"
   ]
  },
  {
   "cell_type": "markdown",
   "metadata": {},
   "source": [
    "## 6. Optimize model parameters using GridSearch"
   ]
  },
  {
   "cell_type": "code",
   "execution_count": null,
   "metadata": {
    "collapsed": true
   },
   "outputs": [],
   "source": [
    "# GridSearch\n",
    "from sklearn.linear_model import Ridge\n",
    "from sklearn.model_selection import GridSearchCV\n",
    "# \n",
    "#   Ridge(alpha=1.0, fit_intercept=True, normalize=False, \n",
    "#         copy_X=True, max_iter=None, tol=0.001, \n",
    "#         solver='auto', random_state=None)\n",
    "#\n",
    "#   GridSearchCV(estimator, param_grid, scoring=None, fit_params=None,\n",
    "#                n_jobs=1, iid=True, refit=True, cv=None, verbose=0, \n",
    "#                pre_dispatch='2*n_jobs', error_score='raise', return_train_score=True)   \n",
    "#\n",
    "# TODO:\n",
    "#  1. create pipeline with Scaler and Ridge regression\n",
    "#  2. estimate quality for alpha: 1, 1.5, 2, 2.5"
   ]
  },
  {
   "cell_type": "code",
   "execution_count": null,
   "metadata": {
    "collapsed": true
   },
   "outputs": [],
   "source": [
    "# Plot predictions\n",
    "predicted = grid_search.best_estimator_.predict(data)\n",
    "\n",
    "pairs = np.array(sorted(zip(y, predicted)))\n",
    "plt.plot(range(0, len(pairs)), pairs[:, 1], 'bo',\n",
    "         range(0, len(pairs)), pairs[:, 0], 'r-')\n",
    "\n",
    "plt.legend(['predicted', 'actual'])\n",
    "plt.show()"
   ]
  },
  {
   "cell_type": "markdown",
   "metadata": {},
   "source": [
    "## 7. Compare different models"
   ]
  },
  {
   "cell_type": "code",
   "execution_count": null,
   "metadata": {
    "collapsed": true
   },
   "outputs": [],
   "source": [
    "# Try ensemble models\n",
    "from sklearn.ensemble import RandomForestRegressor\n",
    "from sklearn.ensemble import GradientBoostingRegressor\n",
    "from sklearn.ensemble import BaggingRegressor\n",
    "\n",
    "# TODO: compare different models using grid search"
   ]
  }
 ],
 "metadata": {
  "kernelspec": {
   "display_name": "Python 3",
   "language": "python",
   "name": "python3"
  },
  "language_info": {
   "codemirror_mode": {
    "name": "ipython",
    "version": 3
   },
   "file_extension": ".py",
   "mimetype": "text/x-python",
   "name": "python",
   "nbconvert_exporter": "python",
   "pygments_lexer": "ipython3",
   "version": "3.5.2"
  }
 },
 "nbformat": 4,
 "nbformat_minor": 2
}
