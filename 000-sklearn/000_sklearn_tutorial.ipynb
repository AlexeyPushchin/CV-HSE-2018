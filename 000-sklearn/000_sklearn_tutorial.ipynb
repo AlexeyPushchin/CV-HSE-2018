{
 "cells": [
  {
   "cell_type": "markdown",
   "metadata": {},
   "source": [
    "# Scikit-learn Tutorial"
   ]
  },
  {
   "cell_type": "code",
   "execution_count": 1,
   "metadata": {
    "collapsed": true
   },
   "outputs": [],
   "source": [
    "import sklearn\n",
    "import numpy as np\n",
    "import matplotlib.pyplot as plt"
   ]
  },
  {
   "cell_type": "markdown",
   "metadata": {},
   "source": [
    "## 1. Load and Explore Dataset"
   ]
  },
  {
   "cell_type": "code",
   "execution_count": 2,
   "metadata": {
    "collapsed": true
   },
   "outputs": [],
   "source": [
    "# This dataset contains information collected by the U.S Census Service\n",
    "# concerning housing in the area of Boston Mass.\n",
    "#\n",
    "# The data was originally published by Harrison, D. and Rubinfeld, D.L. \n",
    "# 'Hedonic prices and the demand for clean air', J. Environ. \n",
    "# Economics & Management, vol.5, 81-102, 1978.\n",
    "#\n",
    "# Variables in order:\n",
    "#  0 CRIM     per capita crime rate by town\n",
    "#  1 ZN       proportion of residential land zoned for lots over 25,000 sq.ft.\n",
    "#  2 INDUS    proportion of non-retail business acres per town\n",
    "#  3 CHAS     Charles River dummy variable (= 1 if tract bounds river; 0 otherwise)\n",
    "#  4 NOX      nitric oxides concentration (parts per 10 million)\n",
    "#  5 RM       average number of rooms per dwelling\n",
    "#  6 AGE      proportion of owner-occupied units built prior to 1940\n",
    "#  7 DIS      weighted distances to five Boston employment centres\n",
    "#  8 RAD      index of accessibility to radial highways\n",
    "#  9 TAX      full-value property-tax rate per $10,000\n",
    "# 10 PTRATIO  pupil-teacher ratio by town\n",
    "# 11 B        1000(Bk - 0.63)^2 where Bk is the proportion of blacks by town\n",
    "# 12 LSTAT    % lower status of the population\n",
    "#\n",
    "# http://www.cs.toronto.edu/~delve/data/boston/bostonDetail.html\n",
    "#\n",
    "from sklearn.datasets import load_boston\n",
    "X, y = load_boston(return_X_y = True)"
   ]
  },
  {
   "cell_type": "code",
   "execution_count": 3,
   "metadata": {},
   "outputs": [
    {
     "data": {
      "image/png": "[encoded data removed]",
      "text/plain": [
       "<matplotlib.figure.Figure at 0x112c7c668>"
      ]
     },
     "metadata": {},
     "output_type": "display_data"
    }
   ],
   "source": [
    "# Explore data relations\n",
    "plt.plot(X[:,12], y, 'bo')\n",
    "plt.title('Boston Dataset')\n",
    "plt.xlabel('LSTAT')\n",
    "plt.ylabel('Price')\n",
    "plt.show()"
   ]
  },
  {
   "cell_type": "code",
   "execution_count": 12,
   "metadata": {},
   "outputs": [
    {
     "data": {
      "text/plain": [
       "array([  3.59376071e+00,   1.13636364e+01,   1.11367787e+01,\n",
       "         6.91699605e-02,   5.54695059e-01,   6.28463439e+00,\n",
       "         6.85749012e+01,   3.79504269e+00,   9.54940711e+00,\n",
       "         4.08237154e+02,   1.84555336e+01,   3.56674032e+02,\n",
       "         1.26530632e+01])"
      ]
     },
     "execution_count": 12,
     "metadata": {},
     "output_type": "execute_result"
    }
   ],
   "source": [
    "# TODO: explore means np.mean\n",
    "np.mean(X, axis=0)"
   ]
  },
  {
   "cell_type": "code",
   "execution_count": 13,
   "metadata": {},
   "outputs": [
    {
     "data": {
      "text/plain": [
       "array([  7.37586143e+01,   5.42861840e+02,   4.69714297e+01,\n",
       "         6.43854770e-02,   1.34010989e-02,   4.92695216e-01,\n",
       "         7.90792473e+02,   4.42525226e+00,   7.56665313e+01,\n",
       "         2.83486236e+04,   4.67772630e+00,   8.31828042e+03,\n",
       "         5.08939794e+01])"
      ]
     },
     "execution_count": 13,
     "metadata": {},
     "output_type": "execute_result"
    }
   ],
   "source": [
    "# TODO: explore variance np.var\n",
    "np.var(X, axis=0)"
   ]
  },
  {
   "cell_type": "markdown",
   "metadata": {},
   "source": [
    "## 2. Preprocess Dataset"
   ]
  },
  {
   "cell_type": "code",
   "execution_count": 17,
   "metadata": {
    "collapsed": true
   },
   "outputs": [],
   "source": [
    "# Scale data\n",
    "from sklearn.preprocessing import StandardScaler\n",
    "#\n",
    "#   StandardScaler(copy=True, with_mean=True, with_std=True)\n",
    "#\n",
    "# TODO:\n",
    "#  1. estimate data stats using StandardScaler.fit method\n",
    "#  2. apply scaling transformation using StandardScaler.transform\n",
    "#  3. explore result using np.mean and np.var\n",
    "scaler = StandardScaler()\n",
    "scaler.fit(X)\n",
    "X_scaled = scaler.transform(X)"
   ]
  },
  {
   "cell_type": "code",
   "execution_count": 18,
   "metadata": {},
   "outputs": [
    {
     "data": {
      "text/plain": [
       "array([  6.34099712e-17,  -6.34319123e-16,  -2.68291099e-15,\n",
       "         4.70199198e-16,   2.49032240e-15,  -1.14523016e-14,\n",
       "        -1.40785495e-15,   9.21090169e-16,   5.44140929e-16,\n",
       "        -8.86861950e-16,  -9.20563581e-15,   8.16310129e-15,\n",
       "        -3.37016317e-16])"
      ]
     },
     "execution_count": 18,
     "metadata": {},
     "output_type": "execute_result"
    }
   ],
   "source": [
    "np.mean(X_scaled, axis=0)"
   ]
  },
  {
   "cell_type": "code",
   "execution_count": 19,
   "metadata": {},
   "outputs": [
    {
     "data": {
      "text/plain": [
       "array([ 1.,  1.,  1.,  1.,  1.,  1.,  1.,  1.,  1.,  1.,  1.,  1.,  1.])"
      ]
     },
     "execution_count": 19,
     "metadata": {},
     "output_type": "execute_result"
    }
   ],
   "source": [
    "np.var(X_scaled, axis=0)"
   ]
  },
  {
   "cell_type": "code",
   "execution_count": 41,
   "metadata": {},
   "outputs": [
    {
     "data": {
      "text/plain": [
       "array([-0.41771335, -0.48772236, -1.55784179, -0.27259857, -1.46588193,\n",
       "       -3.88024936, -2.33543704, -1.26706919, -0.98284286, -1.31399004,\n",
       "       -2.70737911, -3.9071933 , -1.5311271 ])"
      ]
     },
     "execution_count": 41,
     "metadata": {},
     "output_type": "execute_result"
    }
   ],
   "source": [
    "np.min(X_scaled, axis=0)"
   ]
  },
  {
   "cell_type": "code",
   "execution_count": 42,
   "metadata": {},
   "outputs": [
    {
     "data": {
      "text/plain": [
       "array([ 9.94173502,  3.80423444,  2.42256516,  3.66839786,  2.73234648,\n",
       "        3.55504427,  1.11749449,  3.96051769,  1.66124525,  1.79819419,\n",
       "        1.63882832,  0.44105193,  3.54877081])"
      ]
     },
     "execution_count": 42,
     "metadata": {},
     "output_type": "execute_result"
    }
   ],
   "source": [
    "np.max(X_scaled, axis=0)"
   ]
  },
  {
   "cell_type": "markdown",
   "metadata": {},
   "source": [
    "## 3. Train Model "
   ]
  },
  {
   "cell_type": "code",
   "execution_count": 36,
   "metadata": {
    "collapsed": true
   },
   "outputs": [],
   "source": [
    "# Train linear regression\n",
    "from sklearn.linear_model import LinearRegression\n",
    "#\n",
    "#   LinearRegression(fit_intercept=True, normalize=False, copy_X=True, n_jobs=1)\n",
    "#\n",
    "# TODO: create model instance and train it on scaled\n",
    "#       data using LinearRegression.fit method\n",
    "model = LinearRegression().fit(X_scaled, y)"
   ]
  },
  {
   "cell_type": "code",
   "execution_count": 39,
   "metadata": {},
   "outputs": [
    {
     "data": {
      "text/plain": [
       "array([-0.92041113,  1.08098058,  0.14296712,  0.68220346, -2.06009246,\n",
       "        2.67064141,  0.02112063, -3.10444805,  2.65878654, -2.07589814,\n",
       "       -2.06215593,  0.85664044, -3.74867982])"
      ]
     },
     "execution_count": 39,
     "metadata": {},
     "output_type": "execute_result"
    }
   ],
   "source": [
    "model.coef_"
   ]
  },
  {
   "cell_type": "code",
   "execution_count": 28,
   "metadata": {},
   "outputs": [
    {
     "data": {
      "image/png": "[encoded data removed]",
      "text/plain": [
       "<matplotlib.figure.Figure at 0x112dbab00>"
      ]
     },
     "metadata": {},
     "output_type": "display_data"
    }
   ],
   "source": [
    "# Plot predictions\n",
    "predicted = model.predict(X_scaled)\n",
    "\n",
    "pairs = np.array(sorted(zip(y, predicted)))\n",
    "plt.plot(range(0, len(pairs)), pairs[:, 1], 'bo',\n",
    "         range(0, len(pairs)), pairs[:, 0], 'r-')\n",
    "\n",
    "plt.legend(['predicted', 'actual'])\n",
    "plt.show()"
   ]
  },
  {
   "cell_type": "code",
   "execution_count": 30,
   "metadata": {},
   "outputs": [
    {
     "data": {
      "image/png": "[encoded data removed]",
      "text/plain": [
       "<matplotlib.figure.Figure at 0x1134660f0>"
      ]
     },
     "metadata": {},
     "output_type": "display_data"
    }
   ],
   "source": [
    "plt.plot(range(0, len(y)), sorted(y), 'bo')\n",
    "plt.show()"
   ]
  },
  {
   "cell_type": "code",
   "execution_count": 40,
   "metadata": {},
   "outputs": [
    {
     "name": "stdout",
     "output_type": "stream",
     "text": [
      "r2:  0.740607742865\n",
      "mse:  21.8977792177\n"
     ]
    }
   ],
   "source": [
    "# Estimate model quality\n",
    "from sklearn.metrics import r2_score\n",
    "from sklearn.metrics import mean_squared_error\n",
    "#\n",
    "#   r2_score(y_true, y_pred, sample_weight=None, multioutput=None)\n",
    "#   mean_squared_error(y_true, y_pred, sample_weight=None, multioutput='uniform_average')\n",
    "#\n",
    "# TODO: print R2 and MSE scores\n",
    "print('r2: ', r2_score(y, predicted))\n",
    "print('mse: ', mean_squared_error(y, predicted))"
   ]
  },
  {
   "cell_type": "markdown",
   "metadata": {},
   "source": [
    "## 4. Cross-Validation"
   ]
  },
  {
   "cell_type": "code",
   "execution_count": 51,
   "metadata": {
    "collapsed": true
   },
   "outputs": [],
   "source": [
    "# Estimate model quality using cross-validation\n",
    "from sklearn.metrics import r2_score\n",
    "from sklearn.metrics import make_scorer\n",
    "from sklearn.model_selection import KFold\n",
    "from sklearn.model_selection import cross_val_score\n",
    "#\n",
    "#   KFold(n_splits=3, shuffle=False, random_state=None)\n",
    "#\n",
    "#   cross_val_score(estimator, X, y=None, groups=None, scoring=None,\n",
    "#                   cv=None, n_jobs=1, verbose=0, fit_params=None, \n",
    "#                   pre_dispatch='2*n_jobs')\n",
    "#\n",
    "# TODO: estimate average R2 score using 4-fold corss validation\n",
    "\n",
    "kfold = KFold(n_splits=4, shuffle=True, random_state=145)\n",
    "\n",
    "scores = cross_val_score(LinearRegression(),\n",
    "                         X_scaled, y, groups=None,\n",
    "                         scoring = make_scorer(r2_score),\n",
    "                         cv = kfold)"
   ]
  },
  {
   "cell_type": "code",
   "execution_count": 53,
   "metadata": {},
   "outputs": [
    {
     "data": {
      "text/plain": [
       "0.71682385603300292"
      ]
     },
     "execution_count": 53,
     "metadata": {},
     "output_type": "execute_result"
    }
   ],
   "source": [
    "np.average(scores)"
   ]
  },
  {
   "cell_type": "markdown",
   "metadata": {},
   "source": [
    "## 5. Pipeline Scaler and LinearRegression"
   ]
  },
  {
   "cell_type": "code",
   "execution_count": 64,
   "metadata": {
    "collapsed": true
   },
   "outputs": [],
   "source": [
    "from sklearn.pipeline import Pipeline\n",
    "#\n",
    "#   Pipeline(steps=[('name', model),])\n",
    "#\n",
    "# TODO: \n",
    "#  1. combine scaler and linear gregression using pipeline\n",
    "#  2. etimate quality using cross_val_score\n",
    "\n",
    "pipeline = Pipeline(steps=[('scale', scaler),\n",
    "                           ('model', LinearRegression())])"
   ]
  },
  {
   "cell_type": "code",
   "execution_count": 65,
   "metadata": {
    "collapsed": true
   },
   "outputs": [],
   "source": [
    "scores = cross_val_score(pipeline,\n",
    "                         X, y, groups=None,\n",
    "                         scoring = make_scorer(r2_score),\n",
    "                         cv = kfold)"
   ]
  },
  {
   "cell_type": "code",
   "execution_count": 66,
   "metadata": {},
   "outputs": [
    {
     "data": {
      "text/plain": [
       "0.71682385603300269"
      ]
     },
     "execution_count": 66,
     "metadata": {},
     "output_type": "execute_result"
    }
   ],
   "source": [
    "np.average(scores)"
   ]
  },
  {
   "cell_type": "markdown",
   "metadata": {},
   "source": [
    "## 6. Optimize model parameters using GridSearch"
   ]
  },
  {
   "cell_type": "code",
   "execution_count": 75,
   "metadata": {
    "collapsed": true
   },
   "outputs": [],
   "source": [
    "# GridSearch\n",
    "from sklearn.linear_model import Ridge\n",
    "from sklearn.model_selection import GridSearchCV\n",
    "# \n",
    "#   Ridge(alpha=1.0, fit_intercept=True, normalize=False, \n",
    "#         copy_X=True, max_iter=None, tol=0.001, \n",
    "#         solver='auto', random_state=None)\n",
    "#\n",
    "#   GridSearchCV(estimator, param_grid, scoring=None, fit_params=None,\n",
    "#                n_jobs=1, iid=True, refit=True, cv=None, verbose=0, \n",
    "#                pre_dispatch='2*n_jobs', error_score='raise', return_train_score=True)   \n",
    "#\n",
    "# TODO:\n",
    "#  1. create pipeline with Scaler and Ridge regression\n",
    "#  2. estimate quality for alpha: 1, 1.5, 2, 2.5\n",
    "\n",
    "\n",
    "pipeline = Pipeline(steps=[('scale', StandardScaler()),\n",
    "                           ('model', Ridge(alpha=1.0))])\n",
    "\n",
    "param_grid = {'model__alpha': [0, 1, 1.5, 2, 2.5]}\n",
    "\n",
    "grid = GridSearchCV(pipeline, param_grid, \n",
    "                    scoring=make_scorer(r2_score),\n",
    "                    cv=kfold)\n"
   ]
  },
  {
   "cell_type": "code",
   "execution_count": 76,
   "metadata": {
    "collapsed": true
   },
   "outputs": [],
   "source": [
    "model = grid.fit(X, y)"
   ]
  },
  {
   "cell_type": "code",
   "execution_count": 77,
   "metadata": {},
   "outputs": [
    {
     "data": {
      "text/plain": [
       "array([ 0.71674534,  0.71679496,  0.71680603,  0.71680903,  0.71680466])"
      ]
     },
     "execution_count": 77,
     "metadata": {},
     "output_type": "execute_result"
    }
   ],
   "source": [
    "model.cv_results_['mean_test_score']"
   ]
  },
  {
   "cell_type": "code",
   "execution_count": 80,
   "metadata": {},
   "outputs": [
    {
     "data": {
      "image/png": "[encoded data removed]",
      "text/plain": [
       "<matplotlib.figure.Figure at 0x11366da20>"
      ]
     },
     "metadata": {},
     "output_type": "display_data"
    }
   ],
   "source": [
    "# Plot predictions\n",
    "predicted = grid.best_estimator_.predict(X)\n",
    "\n",
    "pairs = np.array(sorted(zip(y, predicted)))\n",
    "plt.plot(range(0, len(pairs)), pairs[:, 1], 'bo',\n",
    "         range(0, len(pairs)), pairs[:, 0], 'r-')\n",
    "\n",
    "plt.legend(['predicted', 'actual'])\n",
    "plt.show()"
   ]
  },
  {
   "cell_type": "markdown",
   "metadata": {},
   "source": [
    "## 7. Compare different models"
   ]
  },
  {
   "cell_type": "code",
   "execution_count": 81,
   "metadata": {
    "collapsed": true
   },
   "outputs": [],
   "source": [
    "# Try ensemble models\n",
    "from sklearn.ensemble import RandomForestRegressor\n",
    "from sklearn.ensemble import GradientBoostingRegressor\n",
    "from sklearn.ensemble import BaggingRegressor\n",
    "\n",
    "# TODO: compare different models using grid search\n",
    "\n",
    "\n",
    "pipeline = Pipeline(steps=[('scale', StandardScaler()),\n",
    "                           ('model', Ridge(alpha=1.0))])\n",
    "\n",
    "param_grid = {'model': [Ridge(alpha=1.5),\n",
    "                        RandomForestRegressor(),\n",
    "                        GradientBoostingRegressor(),\n",
    "                        BaggingRegressor()]}\n",
    "\n",
    "grid = GridSearchCV(pipeline, param_grid, \n",
    "                    scoring=make_scorer(r2_score),\n",
    "                    cv=kfold)"
   ]
  },
  {
   "cell_type": "code",
   "execution_count": 83,
   "metadata": {},
   "outputs": [],
   "source": [
    "model = grid.fit(X, y)"
   ]
  },
  {
   "cell_type": "code",
   "execution_count": 84,
   "metadata": {},
   "outputs": [
    {
     "data": {
      "text/plain": [
       "array([ 0.71680603,  0.82810758,  0.87347652,  0.8197507 ])"
      ]
     },
     "execution_count": 84,
     "metadata": {},
     "output_type": "execute_result"
    }
   ],
   "source": [
    "model.cv_results_['mean_test_score']"
   ]
  },
  {
   "cell_type": "code",
   "execution_count": 85,
   "metadata": {},
   "outputs": [
    {
     "data": {
      "image/png": "[encoded data removed]",
      "text/plain": [
       "<matplotlib.figure.Figure at 0x113466550>"
      ]
     },
     "metadata": {},
     "output_type": "display_data"
    }
   ],
   "source": [
    "# Plot predictions\n",
    "predicted = model.best_estimator_.predict(X)\n",
    "\n",
    "pairs = np.array(sorted(zip(y, predicted)))\n",
    "plt.plot(range(0, len(pairs)), pairs[:, 1], 'bo',\n",
    "         range(0, len(pairs)), pairs[:, 0], 'r-')\n",
    "\n",
    "plt.legend(['predicted', 'actual'])\n",
    "plt.show()"
   ]
  }
 ],
 "metadata": {
  "kernelspec": {
   "display_name": "Python 3",
   "language": "python",
   "name": "python3"
  },
  "language_info": {
   "codemirror_mode": {
    "name": "ipython",
    "version": 3
   },
   "file_extension": ".py",
   "mimetype": "text/x-python",
   "name": "python",
   "nbconvert_exporter": "python",
   "pygments_lexer": "ipython3",
   "version": "3.5.2"
  }
 },
 "nbformat": 4,
 "nbformat_minor": 2
}
